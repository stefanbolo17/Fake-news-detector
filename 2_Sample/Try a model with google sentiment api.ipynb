{
 "cells": [
  {
   "cell_type": "code",
   "execution_count": 55,
   "metadata": {},
   "outputs": [],
   "source": [
    "import pandas as pd\n",
    "import numpy as np\n",
    "import pickle\n",
    "import seaborn as sb\n",
    "from sklearn.naive_bayes import MultinomialNB\n",
    "from sklearn.neighbors import KNeighborsClassifier\n",
    "from sklearn.neural_network import MLPClassifier\n",
    "import string\n",
    "import nltk # Imports the library\n",
    "import string\n",
    "import matplotlib\n",
    "import matplotlib.pyplot as plt\n",
    "from nltk.corpus import stopwords\n",
    "from sklearn.model_selection import train_test_split\n",
    "from scipy.sparse import hstack,csr_matrix"
   ]
  },
  {
   "cell_type": "code",
   "execution_count": 2,
   "metadata": {},
   "outputs": [],
   "source": [
    "def text_process(mess):\n",
    "    \"\"\"\n",
    "    Takes in a string of text, then performs the following:\n",
    "    1. Remove all punctuation\n",
    "    2. Remove all stopwords\n",
    "    3. Returns a list of the cleaned text\n",
    "    \"\"\"\n",
    "    # Check characters to see if they are in punctuation\n",
    "    nopunc = [char for char in mess if char not in string.punctuation]\n",
    "\n",
    "    # Join the characters again to form the string.\n",
    "    nopunc = ''.join(nopunc)\n",
    "\n",
    "    # Now just remove any stopwords\n",
    "    return [word for word in nopunc.split() if word.lower() not in stopwords.words('english')]"
   ]
  },
  {
   "cell_type": "code",
   "execution_count": 3,
   "metadata": {},
   "outputs": [],
   "source": [
    "df = pd.read_csv('sample2.csv')"
   ]
  },
  {
   "cell_type": "code",
   "execution_count": 4,
   "metadata": {},
   "outputs": [
    {
     "data": {
      "text/html": [
       "<div>\n",
       "<style scoped>\n",
       "    .dataframe tbody tr th:only-of-type {\n",
       "        vertical-align: middle;\n",
       "    }\n",
       "\n",
       "    .dataframe tbody tr th {\n",
       "        vertical-align: top;\n",
       "    }\n",
       "\n",
       "    .dataframe thead th {\n",
       "        text-align: right;\n",
       "    }\n",
       "</style>\n",
       "<table border=\"1\" class=\"dataframe\">\n",
       "  <thead>\n",
       "    <tr style=\"text-align: right;\">\n",
       "      <th></th>\n",
       "      <th>Unnamed: 0</th>\n",
       "      <th>domain</th>\n",
       "      <th>type</th>\n",
       "      <th>content</th>\n",
       "      <th>title</th>\n",
       "      <th>authors</th>\n",
       "      <th>sentiment</th>\n",
       "      <th>magnitude</th>\n",
       "    </tr>\n",
       "  </thead>\n",
       "  <tbody>\n",
       "    <tr>\n",
       "      <th>0</th>\n",
       "      <td>0</td>\n",
       "      <td>wikileaks.com</td>\n",
       "      <td>unreliable</td>\n",
       "      <td>Tor\\n\\nTor is an encrypted anonymising network...</td>\n",
       "      <td>Pages that link to \"CRS: The Iraq Marshes: Res...</td>\n",
       "      <td>NaN</td>\n",
       "      <td>0.0</td>\n",
       "      <td>1.7</td>\n",
       "    </tr>\n",
       "    <tr>\n",
       "      <th>1</th>\n",
       "      <td>1</td>\n",
       "      <td>www.yahoo.com</td>\n",
       "      <td>reliable</td>\n",
       "      <td>NEW YORK (AP) — Ringling Bros. and Barnum &amp; Ba...</td>\n",
       "      <td>New show 'Circus 1903' brings back live elepha...</td>\n",
       "      <td>MARK KENNEDY</td>\n",
       "      <td>0.2</td>\n",
       "      <td>8.2</td>\n",
       "    </tr>\n",
       "    <tr>\n",
       "      <th>2</th>\n",
       "      <td>2</td>\n",
       "      <td>www.huffingtonpost.com</td>\n",
       "      <td>reliable</td>\n",
       "      <td>The Importance Of Being Kind 11/15/2016 09:44 ...</td>\n",
       "      <td>The Importance Of Being Kind</td>\n",
       "      <td>Maria Rodale</td>\n",
       "      <td>0.1</td>\n",
       "      <td>18.0</td>\n",
       "    </tr>\n",
       "    <tr>\n",
       "      <th>3</th>\n",
       "      <td>3</td>\n",
       "      <td>thedailysheeple.com</td>\n",
       "      <td>conspiracy</td>\n",
       "      <td>Delivered by The Daily Sheeple\\n\\nWe encourage...</td>\n",
       "      <td>japan-nuclear-radiation</td>\n",
       "      <td>Meat Grinder Media</td>\n",
       "      <td>0.1</td>\n",
       "      <td>0.8</td>\n",
       "    </tr>\n",
       "    <tr>\n",
       "      <th>4</th>\n",
       "      <td>4</td>\n",
       "      <td>beforeitsnews.com</td>\n",
       "      <td>fake</td>\n",
       "      <td>What Most Good Investors Do\\n\\n% of readers th...</td>\n",
       "      <td>What Most Good Investors Do</td>\n",
       "      <td>Jim Rogers Blog</td>\n",
       "      <td>0.0</td>\n",
       "      <td>2.4</td>\n",
       "    </tr>\n",
       "  </tbody>\n",
       "</table>\n",
       "</div>"
      ],
      "text/plain": [
       "   Unnamed: 0                  domain        type  \\\n",
       "0           0           wikileaks.com  unreliable   \n",
       "1           1           www.yahoo.com    reliable   \n",
       "2           2  www.huffingtonpost.com    reliable   \n",
       "3           3     thedailysheeple.com  conspiracy   \n",
       "4           4       beforeitsnews.com        fake   \n",
       "\n",
       "                                             content  \\\n",
       "0  Tor\\n\\nTor is an encrypted anonymising network...   \n",
       "1  NEW YORK (AP) — Ringling Bros. and Barnum & Ba...   \n",
       "2  The Importance Of Being Kind 11/15/2016 09:44 ...   \n",
       "3  Delivered by The Daily Sheeple\\n\\nWe encourage...   \n",
       "4  What Most Good Investors Do\\n\\n% of readers th...   \n",
       "\n",
       "                                               title             authors  \\\n",
       "0  Pages that link to \"CRS: The Iraq Marshes: Res...                 NaN   \n",
       "1  New show 'Circus 1903' brings back live elepha...        MARK KENNEDY   \n",
       "2                       The Importance Of Being Kind        Maria Rodale   \n",
       "3                            japan-nuclear-radiation  Meat Grinder Media   \n",
       "4                        What Most Good Investors Do     Jim Rogers Blog   \n",
       "\n",
       "   sentiment  magnitude  \n",
       "0        0.0        1.7  \n",
       "1        0.2        8.2  \n",
       "2        0.1       18.0  \n",
       "3        0.1        0.8  \n",
       "4        0.0        2.4  "
      ]
     },
     "execution_count": 4,
     "metadata": {},
     "output_type": "execute_result"
    }
   ],
   "source": [
    "df.head()"
   ]
  },
  {
   "cell_type": "code",
   "execution_count": 5,
   "metadata": {},
   "outputs": [
    {
     "data": {
      "text/html": [
       "<div>\n",
       "<style scoped>\n",
       "    .dataframe tbody tr th:only-of-type {\n",
       "        vertical-align: middle;\n",
       "    }\n",
       "\n",
       "    .dataframe tbody tr th {\n",
       "        vertical-align: top;\n",
       "    }\n",
       "\n",
       "    .dataframe thead th {\n",
       "        text-align: right;\n",
       "    }\n",
       "</style>\n",
       "<table border=\"1\" class=\"dataframe\">\n",
       "  <thead>\n",
       "    <tr style=\"text-align: right;\">\n",
       "      <th></th>\n",
       "      <th>Unnamed: 0</th>\n",
       "      <th>domain</th>\n",
       "      <th>type</th>\n",
       "      <th>content</th>\n",
       "      <th>title</th>\n",
       "      <th>authors</th>\n",
       "      <th>sentiment</th>\n",
       "      <th>magnitude</th>\n",
       "    </tr>\n",
       "  </thead>\n",
       "  <tbody>\n",
       "    <tr>\n",
       "      <th>0</th>\n",
       "      <td>0</td>\n",
       "      <td>wikileaks.com</td>\n",
       "      <td>unreliable</td>\n",
       "      <td>Tor\\n\\nTor is an encrypted anonymising network...</td>\n",
       "      <td>Pages that link to \"CRS: The Iraq Marshes: Res...</td>\n",
       "      <td>NaN</td>\n",
       "      <td>0.0</td>\n",
       "      <td>1.7</td>\n",
       "    </tr>\n",
       "    <tr>\n",
       "      <th>1</th>\n",
       "      <td>1</td>\n",
       "      <td>www.yahoo.com</td>\n",
       "      <td>reliable</td>\n",
       "      <td>NEW YORK (AP) — Ringling Bros. and Barnum &amp; Ba...</td>\n",
       "      <td>New show 'Circus 1903' brings back live elepha...</td>\n",
       "      <td>MARK KENNEDY</td>\n",
       "      <td>0.2</td>\n",
       "      <td>8.2</td>\n",
       "    </tr>\n",
       "    <tr>\n",
       "      <th>2</th>\n",
       "      <td>2</td>\n",
       "      <td>www.huffingtonpost.com</td>\n",
       "      <td>reliable</td>\n",
       "      <td>The Importance Of Being Kind 11/15/2016 09:44 ...</td>\n",
       "      <td>The Importance Of Being Kind</td>\n",
       "      <td>Maria Rodale</td>\n",
       "      <td>0.1</td>\n",
       "      <td>18.0</td>\n",
       "    </tr>\n",
       "    <tr>\n",
       "      <th>3</th>\n",
       "      <td>3</td>\n",
       "      <td>thedailysheeple.com</td>\n",
       "      <td>conspiracy</td>\n",
       "      <td>Delivered by The Daily Sheeple\\n\\nWe encourage...</td>\n",
       "      <td>japan-nuclear-radiation</td>\n",
       "      <td>Meat Grinder Media</td>\n",
       "      <td>0.1</td>\n",
       "      <td>0.8</td>\n",
       "    </tr>\n",
       "    <tr>\n",
       "      <th>4</th>\n",
       "      <td>4</td>\n",
       "      <td>beforeitsnews.com</td>\n",
       "      <td>fake</td>\n",
       "      <td>What Most Good Investors Do\\n\\n% of readers th...</td>\n",
       "      <td>What Most Good Investors Do</td>\n",
       "      <td>Jim Rogers Blog</td>\n",
       "      <td>0.0</td>\n",
       "      <td>2.4</td>\n",
       "    </tr>\n",
       "  </tbody>\n",
       "</table>\n",
       "</div>"
      ],
      "text/plain": [
       "   Unnamed: 0                  domain        type  \\\n",
       "0           0           wikileaks.com  unreliable   \n",
       "1           1           www.yahoo.com    reliable   \n",
       "2           2  www.huffingtonpost.com    reliable   \n",
       "3           3     thedailysheeple.com  conspiracy   \n",
       "4           4       beforeitsnews.com        fake   \n",
       "\n",
       "                                             content  \\\n",
       "0  Tor\\n\\nTor is an encrypted anonymising network...   \n",
       "1  NEW YORK (AP) — Ringling Bros. and Barnum & Ba...   \n",
       "2  The Importance Of Being Kind 11/15/2016 09:44 ...   \n",
       "3  Delivered by The Daily Sheeple\\n\\nWe encourage...   \n",
       "4  What Most Good Investors Do\\n\\n% of readers th...   \n",
       "\n",
       "                                               title             authors  \\\n",
       "0  Pages that link to \"CRS: The Iraq Marshes: Res...                 NaN   \n",
       "1  New show 'Circus 1903' brings back live elepha...        MARK KENNEDY   \n",
       "2                       The Importance Of Being Kind        Maria Rodale   \n",
       "3                            japan-nuclear-radiation  Meat Grinder Media   \n",
       "4                        What Most Good Investors Do     Jim Rogers Blog   \n",
       "\n",
       "   sentiment  magnitude  \n",
       "0        0.0        1.7  \n",
       "1        0.2        8.2  \n",
       "2        0.1       18.0  \n",
       "3        0.1        0.8  \n",
       "4        0.0        2.4  "
      ]
     },
     "execution_count": 5,
     "metadata": {},
     "output_type": "execute_result"
    }
   ],
   "source": [
    "df.head()"
   ]
  },
  {
   "cell_type": "code",
   "execution_count": 6,
   "metadata": {},
   "outputs": [],
   "source": [
    "df.drop(['Unnamed: 0','title', 'authors'],axis = 1, inplace = True)"
   ]
  },
  {
   "cell_type": "code",
   "execution_count": 7,
   "metadata": {},
   "outputs": [
    {
     "data": {
      "text/html": [
       "<div>\n",
       "<style scoped>\n",
       "    .dataframe tbody tr th:only-of-type {\n",
       "        vertical-align: middle;\n",
       "    }\n",
       "\n",
       "    .dataframe tbody tr th {\n",
       "        vertical-align: top;\n",
       "    }\n",
       "\n",
       "    .dataframe thead th {\n",
       "        text-align: right;\n",
       "    }\n",
       "</style>\n",
       "<table border=\"1\" class=\"dataframe\">\n",
       "  <thead>\n",
       "    <tr style=\"text-align: right;\">\n",
       "      <th></th>\n",
       "      <th>domain</th>\n",
       "      <th>type</th>\n",
       "      <th>content</th>\n",
       "      <th>sentiment</th>\n",
       "      <th>magnitude</th>\n",
       "    </tr>\n",
       "  </thead>\n",
       "  <tbody>\n",
       "    <tr>\n",
       "      <th>0</th>\n",
       "      <td>wikileaks.com</td>\n",
       "      <td>unreliable</td>\n",
       "      <td>Tor\\n\\nTor is an encrypted anonymising network...</td>\n",
       "      <td>0.0</td>\n",
       "      <td>1.7</td>\n",
       "    </tr>\n",
       "    <tr>\n",
       "      <th>1</th>\n",
       "      <td>www.yahoo.com</td>\n",
       "      <td>reliable</td>\n",
       "      <td>NEW YORK (AP) — Ringling Bros. and Barnum &amp; Ba...</td>\n",
       "      <td>0.2</td>\n",
       "      <td>8.2</td>\n",
       "    </tr>\n",
       "    <tr>\n",
       "      <th>2</th>\n",
       "      <td>www.huffingtonpost.com</td>\n",
       "      <td>reliable</td>\n",
       "      <td>The Importance Of Being Kind 11/15/2016 09:44 ...</td>\n",
       "      <td>0.1</td>\n",
       "      <td>18.0</td>\n",
       "    </tr>\n",
       "    <tr>\n",
       "      <th>3</th>\n",
       "      <td>thedailysheeple.com</td>\n",
       "      <td>conspiracy</td>\n",
       "      <td>Delivered by The Daily Sheeple\\n\\nWe encourage...</td>\n",
       "      <td>0.1</td>\n",
       "      <td>0.8</td>\n",
       "    </tr>\n",
       "    <tr>\n",
       "      <th>4</th>\n",
       "      <td>beforeitsnews.com</td>\n",
       "      <td>fake</td>\n",
       "      <td>What Most Good Investors Do\\n\\n% of readers th...</td>\n",
       "      <td>0.0</td>\n",
       "      <td>2.4</td>\n",
       "    </tr>\n",
       "  </tbody>\n",
       "</table>\n",
       "</div>"
      ],
      "text/plain": [
       "                   domain        type  \\\n",
       "0           wikileaks.com  unreliable   \n",
       "1           www.yahoo.com    reliable   \n",
       "2  www.huffingtonpost.com    reliable   \n",
       "3     thedailysheeple.com  conspiracy   \n",
       "4       beforeitsnews.com        fake   \n",
       "\n",
       "                                             content  sentiment  magnitude  \n",
       "0  Tor\\n\\nTor is an encrypted anonymising network...        0.0        1.7  \n",
       "1  NEW YORK (AP) — Ringling Bros. and Barnum & Ba...        0.2        8.2  \n",
       "2  The Importance Of Being Kind 11/15/2016 09:44 ...        0.1       18.0  \n",
       "3  Delivered by The Daily Sheeple\\n\\nWe encourage...        0.1        0.8  \n",
       "4  What Most Good Investors Do\\n\\n% of readers th...        0.0        2.4  "
      ]
     },
     "execution_count": 7,
     "metadata": {},
     "output_type": "execute_result"
    }
   ],
   "source": [
    "df.head()"
   ]
  },
  {
   "cell_type": "code",
   "execution_count": 8,
   "metadata": {},
   "outputs": [
    {
     "data": {
      "text/html": [
       "<div>\n",
       "<style scoped>\n",
       "    .dataframe tbody tr th:only-of-type {\n",
       "        vertical-align: middle;\n",
       "    }\n",
       "\n",
       "    .dataframe tbody tr th {\n",
       "        vertical-align: top;\n",
       "    }\n",
       "\n",
       "    .dataframe thead th {\n",
       "        text-align: right;\n",
       "    }\n",
       "</style>\n",
       "<table border=\"1\" class=\"dataframe\">\n",
       "  <thead>\n",
       "    <tr style=\"text-align: right;\">\n",
       "      <th></th>\n",
       "      <th>domain</th>\n",
       "      <th>type</th>\n",
       "      <th>content</th>\n",
       "      <th>sentiment</th>\n",
       "      <th>magnitude</th>\n",
       "    </tr>\n",
       "  </thead>\n",
       "  <tbody>\n",
       "    <tr>\n",
       "      <th>0</th>\n",
       "      <td>wikileaks.com</td>\n",
       "      <td>unreliable</td>\n",
       "      <td>Tor\\n\\nTor is an encrypted anonymising network...</td>\n",
       "      <td>0.0</td>\n",
       "      <td>1.7</td>\n",
       "    </tr>\n",
       "    <tr>\n",
       "      <th>1</th>\n",
       "      <td>www.yahoo.com</td>\n",
       "      <td>reliable</td>\n",
       "      <td>NEW YORK (AP) — Ringling Bros. and Barnum &amp; Ba...</td>\n",
       "      <td>0.2</td>\n",
       "      <td>8.2</td>\n",
       "    </tr>\n",
       "    <tr>\n",
       "      <th>2</th>\n",
       "      <td>www.huffingtonpost.com</td>\n",
       "      <td>reliable</td>\n",
       "      <td>The Importance Of Being Kind 11/15/2016 09:44 ...</td>\n",
       "      <td>0.1</td>\n",
       "      <td>18.0</td>\n",
       "    </tr>\n",
       "    <tr>\n",
       "      <th>3</th>\n",
       "      <td>thedailysheeple.com</td>\n",
       "      <td>conspiracy</td>\n",
       "      <td>Delivered by The Daily Sheeple\\n\\nWe encourage...</td>\n",
       "      <td>0.1</td>\n",
       "      <td>0.8</td>\n",
       "    </tr>\n",
       "    <tr>\n",
       "      <th>4</th>\n",
       "      <td>beforeitsnews.com</td>\n",
       "      <td>fake</td>\n",
       "      <td>What Most Good Investors Do\\n\\n% of readers th...</td>\n",
       "      <td>0.0</td>\n",
       "      <td>2.4</td>\n",
       "    </tr>\n",
       "    <tr>\n",
       "      <th>...</th>\n",
       "      <td>...</td>\n",
       "      <td>...</td>\n",
       "      <td>...</td>\n",
       "      <td>...</td>\n",
       "      <td>...</td>\n",
       "    </tr>\n",
       "    <tr>\n",
       "      <th>154657</th>\n",
       "      <td>nytimes.com</td>\n",
       "      <td>reliable</td>\n",
       "      <td>This year’s winner, Karl Meltzer, 41, of Sandy...</td>\n",
       "      <td>0.0</td>\n",
       "      <td>13.0</td>\n",
       "    </tr>\n",
       "    <tr>\n",
       "      <th>154997</th>\n",
       "      <td>nytimes.com</td>\n",
       "      <td>reliable</td>\n",
       "      <td>The narrator of Giles Foden’s new novel is a r...</td>\n",
       "      <td>0.0</td>\n",
       "      <td>12.0</td>\n",
       "    </tr>\n",
       "    <tr>\n",
       "      <th>160334</th>\n",
       "      <td>beforeitsnews.com</td>\n",
       "      <td>fake</td>\n",
       "      <td>Happy 80th Birthday, Warren Buffett… Will You ...</td>\n",
       "      <td>0.0</td>\n",
       "      <td>2.0</td>\n",
       "    </tr>\n",
       "    <tr>\n",
       "      <th>175394</th>\n",
       "      <td>threepercenternation.com</td>\n",
       "      <td>fake</td>\n",
       "      <td>In The News\\n\\nTurkey Catches ISIS Istanbul Gu...</td>\n",
       "      <td>0.0</td>\n",
       "      <td>1.0</td>\n",
       "    </tr>\n",
       "    <tr>\n",
       "      <th>196227</th>\n",
       "      <td>nytimes.com</td>\n",
       "      <td>reliable</td>\n",
       "      <td>Starting in late 2013, medallion owners will b...</td>\n",
       "      <td>0.0</td>\n",
       "      <td>26.0</td>\n",
       "    </tr>\n",
       "  </tbody>\n",
       "</table>\n",
       "<p>46781 rows × 5 columns</p>\n",
       "</div>"
      ],
      "text/plain": [
       "                          domain        type  \\\n",
       "0                  wikileaks.com  unreliable   \n",
       "1                  www.yahoo.com    reliable   \n",
       "2         www.huffingtonpost.com    reliable   \n",
       "3            thedailysheeple.com  conspiracy   \n",
       "4              beforeitsnews.com        fake   \n",
       "...                          ...         ...   \n",
       "154657               nytimes.com    reliable   \n",
       "154997               nytimes.com    reliable   \n",
       "160334         beforeitsnews.com        fake   \n",
       "175394  threepercenternation.com        fake   \n",
       "196227               nytimes.com    reliable   \n",
       "\n",
       "                                                  content  sentiment  \\\n",
       "0       Tor\\n\\nTor is an encrypted anonymising network...        0.0   \n",
       "1       NEW YORK (AP) — Ringling Bros. and Barnum & Ba...        0.2   \n",
       "2       The Importance Of Being Kind 11/15/2016 09:44 ...        0.1   \n",
       "3       Delivered by The Daily Sheeple\\n\\nWe encourage...        0.1   \n",
       "4       What Most Good Investors Do\\n\\n% of readers th...        0.0   \n",
       "...                                                   ...        ...   \n",
       "154657  This year’s winner, Karl Meltzer, 41, of Sandy...        0.0   \n",
       "154997  The narrator of Giles Foden’s new novel is a r...        0.0   \n",
       "160334  Happy 80th Birthday, Warren Buffett… Will You ...        0.0   \n",
       "175394  In The News\\n\\nTurkey Catches ISIS Istanbul Gu...        0.0   \n",
       "196227  Starting in late 2013, medallion owners will b...        0.0   \n",
       "\n",
       "        magnitude  \n",
       "0             1.7  \n",
       "1             8.2  \n",
       "2            18.0  \n",
       "3             0.8  \n",
       "4             2.4  \n",
       "...           ...  \n",
       "154657       13.0  \n",
       "154997       12.0  \n",
       "160334        2.0  \n",
       "175394        1.0  \n",
       "196227       26.0  \n",
       "\n",
       "[46781 rows x 5 columns]"
      ]
     },
     "execution_count": 8,
     "metadata": {},
     "output_type": "execute_result"
    }
   ],
   "source": [
    "df = df[(df['sentiment']!=0) | (df['magnitude']!=0)]\n",
    "df"
   ]
  },
  {
   "cell_type": "code",
   "execution_count": 9,
   "metadata": {},
   "outputs": [],
   "source": [
    "df['type'] = df['type'].map({'fake': 0, 'reliable': 1, 'unreliable': 0, 'conspiracy':0})"
   ]
  },
  {
   "cell_type": "code",
   "execution_count": 45,
   "metadata": {},
   "outputs": [],
   "source": [
    "sample = df.sample(frac = 1)"
   ]
  },
  {
   "cell_type": "code",
   "execution_count": 20,
   "metadata": {},
   "outputs": [],
   "source": [
    "sample, test_sample = train_test_split(df, test_size=0.2, random_state=42)"
   ]
  },
  {
   "cell_type": "code",
   "execution_count": 46,
   "metadata": {},
   "outputs": [
    {
     "data": {
      "text/plain": [
       "type\n",
       "0    24168\n",
       "1    22613\n",
       "dtype: int64"
      ]
     },
     "execution_count": 46,
     "metadata": {},
     "output_type": "execute_result"
    }
   ],
   "source": [
    "sample.groupby('type').size()"
   ]
  },
  {
   "cell_type": "code",
   "execution_count": 176,
   "metadata": {},
   "outputs": [
    {
     "data": {
      "text/html": [
       "<div>\n",
       "<style scoped>\n",
       "    .dataframe tbody tr th:only-of-type {\n",
       "        vertical-align: middle;\n",
       "    }\n",
       "\n",
       "    .dataframe tbody tr th {\n",
       "        vertical-align: top;\n",
       "    }\n",
       "\n",
       "    .dataframe thead th {\n",
       "        text-align: right;\n",
       "    }\n",
       "</style>\n",
       "<table border=\"1\" class=\"dataframe\">\n",
       "  <thead>\n",
       "    <tr style=\"text-align: right;\">\n",
       "      <th></th>\n",
       "      <th>sentiment</th>\n",
       "      <th>magnitude</th>\n",
       "      <th>type</th>\n",
       "    </tr>\n",
       "  </thead>\n",
       "  <tbody>\n",
       "    <tr>\n",
       "      <th>16384</th>\n",
       "      <td>-0.3</td>\n",
       "      <td>31.799999</td>\n",
       "      <td>0</td>\n",
       "    </tr>\n",
       "    <tr>\n",
       "      <th>44257</th>\n",
       "      <td>0.0</td>\n",
       "      <td>35.700001</td>\n",
       "      <td>0</td>\n",
       "    </tr>\n",
       "    <tr>\n",
       "      <th>17784</th>\n",
       "      <td>-0.1</td>\n",
       "      <td>0.400000</td>\n",
       "      <td>0</td>\n",
       "    </tr>\n",
       "    <tr>\n",
       "      <th>5238</th>\n",
       "      <td>0.1</td>\n",
       "      <td>5.300000</td>\n",
       "      <td>0</td>\n",
       "    </tr>\n",
       "    <tr>\n",
       "      <th>21808</th>\n",
       "      <td>0.1</td>\n",
       "      <td>0.100000</td>\n",
       "      <td>0</td>\n",
       "    </tr>\n",
       "    <tr>\n",
       "      <th>...</th>\n",
       "      <td>...</td>\n",
       "      <td>...</td>\n",
       "      <td>...</td>\n",
       "    </tr>\n",
       "    <tr>\n",
       "      <th>11402</th>\n",
       "      <td>-0.1</td>\n",
       "      <td>8.900000</td>\n",
       "      <td>1</td>\n",
       "    </tr>\n",
       "    <tr>\n",
       "      <th>45179</th>\n",
       "      <td>0.4</td>\n",
       "      <td>8.800000</td>\n",
       "      <td>0</td>\n",
       "    </tr>\n",
       "    <tr>\n",
       "      <th>38531</th>\n",
       "      <td>0.0</td>\n",
       "      <td>16.000000</td>\n",
       "      <td>0</td>\n",
       "    </tr>\n",
       "    <tr>\n",
       "      <th>869</th>\n",
       "      <td>0.1</td>\n",
       "      <td>1.700000</td>\n",
       "      <td>0</td>\n",
       "    </tr>\n",
       "    <tr>\n",
       "      <th>15951</th>\n",
       "      <td>0.2</td>\n",
       "      <td>6.400000</td>\n",
       "      <td>0</td>\n",
       "    </tr>\n",
       "  </tbody>\n",
       "</table>\n",
       "<p>37424 rows × 3 columns</p>\n",
       "</div>"
      ],
      "text/plain": [
       "       sentiment  magnitude  type\n",
       "16384       -0.3  31.799999     0\n",
       "44257        0.0  35.700001     0\n",
       "17784       -0.1   0.400000     0\n",
       "5238         0.1   5.300000     0\n",
       "21808        0.1   0.100000     0\n",
       "...          ...        ...   ...\n",
       "11402       -0.1   8.900000     1\n",
       "45179        0.4   8.800000     0\n",
       "38531        0.0  16.000000     0\n",
       "869          0.1   1.700000     0\n",
       "15951        0.2   6.400000     0\n",
       "\n",
       "[37424 rows x 3 columns]"
      ]
     },
     "execution_count": 176,
     "metadata": {},
     "output_type": "execute_result"
    }
   ],
   "source": [
    "sample[['sentiment','magnitude','type']]"
   ]
  },
  {
   "cell_type": "code",
   "execution_count": 177,
   "metadata": {},
   "outputs": [
    {
     "data": {
      "text/html": [
       "<div>\n",
       "<style scoped>\n",
       "    .dataframe tbody tr th:only-of-type {\n",
       "        vertical-align: middle;\n",
       "    }\n",
       "\n",
       "    .dataframe tbody tr th {\n",
       "        vertical-align: top;\n",
       "    }\n",
       "\n",
       "    .dataframe thead th {\n",
       "        text-align: right;\n",
       "    }\n",
       "</style>\n",
       "<table border=\"1\" class=\"dataframe\">\n",
       "  <thead>\n",
       "    <tr style=\"text-align: right;\">\n",
       "      <th></th>\n",
       "      <th>sentiment</th>\n",
       "      <th>magnitude</th>\n",
       "      <th>type</th>\n",
       "    </tr>\n",
       "  </thead>\n",
       "  <tbody>\n",
       "    <tr>\n",
       "      <th>count</th>\n",
       "      <td>37424.000000</td>\n",
       "      <td>37424.000000</td>\n",
       "      <td>37424.000000</td>\n",
       "    </tr>\n",
       "    <tr>\n",
       "      <th>mean</th>\n",
       "      <td>0.003268</td>\n",
       "      <td>7.866252</td>\n",
       "      <td>0.486773</td>\n",
       "    </tr>\n",
       "    <tr>\n",
       "      <th>std</th>\n",
       "      <td>0.174753</td>\n",
       "      <td>11.848041</td>\n",
       "      <td>0.499832</td>\n",
       "    </tr>\n",
       "    <tr>\n",
       "      <th>min</th>\n",
       "      <td>-0.900000</td>\n",
       "      <td>0.100000</td>\n",
       "      <td>0.000000</td>\n",
       "    </tr>\n",
       "    <tr>\n",
       "      <th>25%</th>\n",
       "      <td>-0.100000</td>\n",
       "      <td>1.700000</td>\n",
       "      <td>0.000000</td>\n",
       "    </tr>\n",
       "    <tr>\n",
       "      <th>50%</th>\n",
       "      <td>0.000000</td>\n",
       "      <td>4.400000</td>\n",
       "      <td>0.000000</td>\n",
       "    </tr>\n",
       "    <tr>\n",
       "      <th>75%</th>\n",
       "      <td>0.100000</td>\n",
       "      <td>10.600000</td>\n",
       "      <td>1.000000</td>\n",
       "    </tr>\n",
       "    <tr>\n",
       "      <th>max</th>\n",
       "      <td>0.900000</td>\n",
       "      <td>417.299988</td>\n",
       "      <td>1.000000</td>\n",
       "    </tr>\n",
       "  </tbody>\n",
       "</table>\n",
       "</div>"
      ],
      "text/plain": [
       "          sentiment     magnitude          type\n",
       "count  37424.000000  37424.000000  37424.000000\n",
       "mean       0.003268      7.866252      0.486773\n",
       "std        0.174753     11.848041      0.499832\n",
       "min       -0.900000      0.100000      0.000000\n",
       "25%       -0.100000      1.700000      0.000000\n",
       "50%        0.000000      4.400000      0.000000\n",
       "75%        0.100000     10.600000      1.000000\n",
       "max        0.900000    417.299988      1.000000"
      ]
     },
     "execution_count": 177,
     "metadata": {},
     "output_type": "execute_result"
    }
   ],
   "source": [
    "sample[['sentiment','magnitude','type']].describe()"
   ]
  },
  {
   "cell_type": "code",
   "execution_count": 36,
   "metadata": {},
   "outputs": [
    {
     "data": {
      "text/plain": [
       "8519     0.0\n",
       "33148   -0.1\n",
       "32707   -0.2\n",
       "38390   -0.3\n",
       "35076    0.0\n",
       "        ... \n",
       "22129    0.6\n",
       "46509    0.5\n",
       "18056    0.1\n",
       "30491   -0.2\n",
       "39313    0.0\n",
       "Name: sentiment, Length: 24168, dtype: float64"
      ]
     },
     "execution_count": 36,
     "metadata": {},
     "output_type": "execute_result"
    }
   ],
   "source": [
    "sample['sentiment'][sample['type'] ==0]"
   ]
  },
  {
   "cell_type": "code",
   "execution_count": 44,
   "metadata": {},
   "outputs": [
    {
     "data": {
      "image/png": "[encoded data removed]",
      "text/plain": [
       "<Figure size 720x576 with 1 Axes>"
      ]
     },
     "metadata": {
      "needs_background": "light"
     },
     "output_type": "display_data"
    }
   ],
   "source": [
    "plt.figure(figsize=(10,8))\n",
    "plt.scatter(sample['sentiment'][sample['type']==0], sample['magnitude'][sample['type']==0], alpha=0.5, label = 'fake', c ='red')\n",
    "plt.scatter(sample['sentiment'][sample['type']==1], sample['magnitude'][sample['type']==1], alpha=0.5, label = 'reliable', c='green')\n",
    "plt.legend()\n",
    "plt.xlabel('Sentiment')\n",
    "plt.ylabel('Magnitude')\n",
    "plt.show()"
   ]
  },
  {
   "cell_type": "code",
   "execution_count": 179,
   "metadata": {},
   "outputs": [
    {
     "name": "stdout",
     "output_type": "stream",
     "text": [
      "405730\n"
     ]
    }
   ],
   "source": [
    "from sklearn.feature_extraction.text import CountVectorizer\n",
    "transformer = CountVectorizer(analyzer=text_process).fit(sample['content'])\n",
    "\n",
    "# Print total number of vocab words\n",
    "print(len(transformer.vocabulary_))"
   ]
  },
  {
   "cell_type": "code",
   "execution_count": 182,
   "metadata": {},
   "outputs": [],
   "source": [
    "content_bow = transformer.transform(sample['content'])"
   ]
  },
  {
   "cell_type": "code",
   "execution_count": 183,
   "metadata": {},
   "outputs": [
    {
     "name": "stdout",
     "output_type": "stream",
     "text": [
      "(37424, 405730)\n"
     ]
    }
   ],
   "source": [
    "from sklearn.feature_extraction.text import TfidfTransformer\n",
    "\n",
    "tfidf_transformer = TfidfTransformer().fit(content_bow)\n",
    "content_tfidf = tfidf_transformer.transform(content_bow)\n",
    "print(content_tfidf.shape)"
   ]
  },
  {
   "cell_type": "code",
   "execution_count": 185,
   "metadata": {},
   "outputs": [
    {
     "data": {
      "text/plain": [
       "<37424x405730 sparse matrix of type '<class 'numpy.float64'>'\n",
       "\twith 7109941 stored elements in Compressed Sparse Row format>"
      ]
     },
     "execution_count": 185,
     "metadata": {},
     "output_type": "execute_result"
    }
   ],
   "source": [
    "content_tfidf"
   ]
  },
  {
   "cell_type": "code",
   "execution_count": 186,
   "metadata": {},
   "outputs": [],
   "source": [
    "from sklearn.naive_bayes import MultinomialNB\n",
    "fake_detect_model = MultinomialNB().fit(content_tfidf, sample['type'])"
   ]
  },
  {
   "cell_type": "code",
   "execution_count": 53,
   "metadata": {},
   "outputs": [],
   "source": [
    "test_sample = df.sample(frac = 0.2, random_state = 42)"
   ]
  },
  {
   "cell_type": "code",
   "execution_count": 187,
   "metadata": {},
   "outputs": [],
   "source": [
    "test_transformer = CountVectorizer(analyzer=text_process).fit(test_sample['content'])\n",
    "content_test_bow = transformer.transform(test_sample['content'])\n",
    "tfidf__test_transformer = TfidfTransformer().fit(content_test_bow)\n",
    "content_test_tfidf = tfidf_transformer.transform(content_test_bow)"
   ]
  },
  {
   "cell_type": "code",
   "execution_count": 188,
   "metadata": {},
   "outputs": [],
   "source": [
    "test = fake_detect_model.predict(content_test_tfidf)"
   ]
  },
  {
   "cell_type": "code",
   "execution_count": 189,
   "metadata": {
    "scrolled": true
   },
   "outputs": [
    {
     "name": "stdout",
     "output_type": "stream",
     "text": [
      "              precision    recall  f1-score   support\n",
      "\n",
      "           0       0.81      0.98      0.89      4122\n",
      "           1       0.98      0.82      0.89      5235\n",
      "\n",
      "    accuracy                           0.89      9357\n",
      "   macro avg       0.89      0.90      0.89      9357\n",
      "weighted avg       0.90      0.89      0.89      9357\n",
      "\n",
      "[[4025  936]\n",
      " [  97 4299]]\n"
     ]
    }
   ],
   "source": [
    "from sklearn.metrics import classification_report\n",
    "from sklearn.metrics import confusion_matrix\n",
    "print(classification_report(test,test_sample['type']))\n",
    "print(confusion_matrix(test_sample['type'], test))"
   ]
  },
  {
   "cell_type": "code",
   "execution_count": 66,
   "metadata": {},
   "outputs": [
    {
     "data": {
      "image/png": "[encoded data removed]",
      "text/plain": [
       "<Figure size 360x288 with 2 Axes>"
      ]
     },
     "metadata": {
      "needs_background": "light"
     },
     "output_type": "display_data"
    }
   ],
   "source": [
    "df_cm = pd.DataFrame([[4025,936],[97,4299]])\n",
    "plt.figure(figsize = (5,4))\n",
    "plt.xlabel('Predicted label')\n",
    "plt.ylabel('True label')\n",
    "sb.heatmap(df_cm, annot=True, cmap=\"Blues\",linewidths=0.25)\n",
    "plt.show()"
   ]
  },
  {
   "cell_type": "markdown",
   "metadata": {},
   "source": [
    "### Create a new spare matrix features where add sentiment and magnitude arrays (NORMALIZED)"
   ]
  },
  {
   "cell_type": "code",
   "execution_count": 190,
   "metadata": {},
   "outputs": [],
   "source": [
    "sentiment = sample[['sentiment']]\n",
    "magnitude = sample[['magnitude']]"
   ]
  },
  {
   "cell_type": "code",
   "execution_count": 191,
   "metadata": {},
   "outputs": [
    {
     "data": {
      "text/html": [
       "<div>\n",
       "<style scoped>\n",
       "    .dataframe tbody tr th:only-of-type {\n",
       "        vertical-align: middle;\n",
       "    }\n",
       "\n",
       "    .dataframe tbody tr th {\n",
       "        vertical-align: top;\n",
       "    }\n",
       "\n",
       "    .dataframe thead th {\n",
       "        text-align: right;\n",
       "    }\n",
       "</style>\n",
       "<table border=\"1\" class=\"dataframe\">\n",
       "  <thead>\n",
       "    <tr style=\"text-align: right;\">\n",
       "      <th></th>\n",
       "      <th>sentiment</th>\n",
       "    </tr>\n",
       "  </thead>\n",
       "  <tbody>\n",
       "    <tr>\n",
       "      <th>count</th>\n",
       "      <td>37424.000000</td>\n",
       "    </tr>\n",
       "    <tr>\n",
       "      <th>mean</th>\n",
       "      <td>0.003268</td>\n",
       "    </tr>\n",
       "    <tr>\n",
       "      <th>std</th>\n",
       "      <td>0.174753</td>\n",
       "    </tr>\n",
       "    <tr>\n",
       "      <th>min</th>\n",
       "      <td>-0.900000</td>\n",
       "    </tr>\n",
       "    <tr>\n",
       "      <th>25%</th>\n",
       "      <td>-0.100000</td>\n",
       "    </tr>\n",
       "    <tr>\n",
       "      <th>50%</th>\n",
       "      <td>0.000000</td>\n",
       "    </tr>\n",
       "    <tr>\n",
       "      <th>75%</th>\n",
       "      <td>0.100000</td>\n",
       "    </tr>\n",
       "    <tr>\n",
       "      <th>max</th>\n",
       "      <td>0.900000</td>\n",
       "    </tr>\n",
       "  </tbody>\n",
       "</table>\n",
       "</div>"
      ],
      "text/plain": [
       "          sentiment\n",
       "count  37424.000000\n",
       "mean       0.003268\n",
       "std        0.174753\n",
       "min       -0.900000\n",
       "25%       -0.100000\n",
       "50%        0.000000\n",
       "75%        0.100000\n",
       "max        0.900000"
      ]
     },
     "execution_count": 191,
     "metadata": {},
     "output_type": "execute_result"
    }
   ],
   "source": [
    "sentiment.describe()"
   ]
  },
  {
   "cell_type": "code",
   "execution_count": 192,
   "metadata": {},
   "outputs": [
    {
     "data": {
      "text/html": [
       "<div>\n",
       "<style scoped>\n",
       "    .dataframe tbody tr th:only-of-type {\n",
       "        vertical-align: middle;\n",
       "    }\n",
       "\n",
       "    .dataframe tbody tr th {\n",
       "        vertical-align: top;\n",
       "    }\n",
       "\n",
       "    .dataframe thead th {\n",
       "        text-align: right;\n",
       "    }\n",
       "</style>\n",
       "<table border=\"1\" class=\"dataframe\">\n",
       "  <thead>\n",
       "    <tr style=\"text-align: right;\">\n",
       "      <th></th>\n",
       "      <th>magnitude</th>\n",
       "    </tr>\n",
       "  </thead>\n",
       "  <tbody>\n",
       "    <tr>\n",
       "      <th>count</th>\n",
       "      <td>37424.000000</td>\n",
       "    </tr>\n",
       "    <tr>\n",
       "      <th>mean</th>\n",
       "      <td>7.866252</td>\n",
       "    </tr>\n",
       "    <tr>\n",
       "      <th>std</th>\n",
       "      <td>11.848041</td>\n",
       "    </tr>\n",
       "    <tr>\n",
       "      <th>min</th>\n",
       "      <td>0.100000</td>\n",
       "    </tr>\n",
       "    <tr>\n",
       "      <th>25%</th>\n",
       "      <td>1.700000</td>\n",
       "    </tr>\n",
       "    <tr>\n",
       "      <th>50%</th>\n",
       "      <td>4.400000</td>\n",
       "    </tr>\n",
       "    <tr>\n",
       "      <th>75%</th>\n",
       "      <td>10.600000</td>\n",
       "    </tr>\n",
       "    <tr>\n",
       "      <th>max</th>\n",
       "      <td>417.299988</td>\n",
       "    </tr>\n",
       "  </tbody>\n",
       "</table>\n",
       "</div>"
      ],
      "text/plain": [
       "          magnitude\n",
       "count  37424.000000\n",
       "mean       7.866252\n",
       "std       11.848041\n",
       "min        0.100000\n",
       "25%        1.700000\n",
       "50%        4.400000\n",
       "75%       10.600000\n",
       "max      417.299988"
      ]
     },
     "execution_count": 192,
     "metadata": {},
     "output_type": "execute_result"
    }
   ],
   "source": [
    "magnitude.describe()"
   ]
  },
  {
   "cell_type": "markdown",
   "metadata": {},
   "source": [
    "#### Normalize sentiment and magnitude values"
   ]
  },
  {
   "cell_type": "code",
   "execution_count": 193,
   "metadata": {},
   "outputs": [],
   "source": [
    "from sklearn import preprocessing\n",
    "min_max_scaler = preprocessing.MinMaxScaler()\n",
    "\n",
    "def normalize(data):    \n",
    "    data_scaled = min_max_scaler.fit_transform(data.values)\n",
    "    return pd.DataFrame(data_scaled)\n",
    "\n",
    "sentiment_normalized = normalize(sentiment)\n",
    "magnitude_normalized = normalize(magnitude)"
   ]
  },
  {
   "cell_type": "code",
   "execution_count": 194,
   "metadata": {},
   "outputs": [],
   "source": [
    "new_features = hstack((content_tfidf, np.array(sentiment_normalized[0])[:,None]))\n",
    "new_features = hstack((new_features, np.array(magnitude_normalized[0])[:,None]))"
   ]
  },
  {
   "cell_type": "code",
   "execution_count": 195,
   "metadata": {},
   "outputs": [
    {
     "data": {
      "text/plain": [
       "<37424x405732 sparse matrix of type '<class 'numpy.float64'>'\n",
       "\twith 7184158 stored elements in COOrdinate format>"
      ]
     },
     "execution_count": 195,
     "metadata": {},
     "output_type": "execute_result"
    }
   ],
   "source": [
    "new_features"
   ]
  },
  {
   "cell_type": "code",
   "execution_count": 196,
   "metadata": {},
   "outputs": [],
   "source": [
    "fake_detect_model_sentiment_API = MultinomialNB().fit(new_features, sample['type'])"
   ]
  },
  {
   "cell_type": "code",
   "execution_count": 197,
   "metadata": {},
   "outputs": [
    {
     "data": {
      "text/plain": [
       "<9357x405730 sparse matrix of type '<class 'numpy.float64'>'\n",
       "\twith 1712568 stored elements in Compressed Sparse Row format>"
      ]
     },
     "execution_count": 197,
     "metadata": {},
     "output_type": "execute_result"
    }
   ],
   "source": [
    "content_test_tfidf"
   ]
  },
  {
   "cell_type": "code",
   "execution_count": 198,
   "metadata": {},
   "outputs": [],
   "source": [
    "sentiment_test = normalize(test_sample[['sentiment']])\n",
    "magnitude_test = normalize(test_sample[['magnitude']])"
   ]
  },
  {
   "cell_type": "code",
   "execution_count": 199,
   "metadata": {},
   "outputs": [],
   "source": [
    "new_features_test = hstack((content_test_tfidf, np.array(sentiment_test[0])[:,None]))\n",
    "new_features_test = hstack((new_features_test, np.array(magnitude_test[0])[:,None]))"
   ]
  },
  {
   "cell_type": "code",
   "execution_count": 200,
   "metadata": {},
   "outputs": [],
   "source": [
    "pred = fake_detect_model_sentiment_API.predict(new_features_test)"
   ]
  },
  {
   "cell_type": "code",
   "execution_count": 201,
   "metadata": {
    "scrolled": true
   },
   "outputs": [
    {
     "name": "stdout",
     "output_type": "stream",
     "text": [
      "              precision    recall  f1-score   support\n",
      "\n",
      "           0       0.82      0.98      0.89      4155\n",
      "           1       0.98      0.83      0.90      5202\n",
      "\n",
      "    accuracy                           0.89      9357\n",
      "   macro avg       0.90      0.90      0.89      9357\n",
      "weighted avg       0.91      0.89      0.89      9357\n",
      "\n"
     ]
    }
   ],
   "source": [
    "print(classification_report(pred, test_sample['type']))"
   ]
  },
  {
   "cell_type": "code",
   "execution_count": 202,
   "metadata": {},
   "outputs": [
    {
     "name": "stdout",
     "output_type": "stream",
     "text": [
      "[[4057  904]\n",
      " [  98 4298]]\n"
     ]
    },
    {
     "data": {
      "image/png": "[encoded data removed]",
      "text/plain": [
       "<Figure size 432x288 with 2 Axes>"
      ]
     },
     "metadata": {
      "needs_background": "light"
     },
     "output_type": "display_data"
    }
   ],
   "source": [
    "from sklearn.metrics import plot_confusion_matrix\n",
    "disp = plot_confusion_matrix(fake_detect_model_sentiment_API, new_features_test, test_sample['type'], normalize = None,\n",
    "                                 cmap=plt.cm.Blues)\n",
    "disp.ax_.set_title(\"conf\")\n",
    "print(confusion_matrix(test_sample['type'], pred))"
   ]
  },
  {
   "cell_type": "markdown",
   "metadata": {},
   "source": [
    "### Create a new spare matrix features where add sentiment and magnitude arrays"
   ]
  },
  {
   "cell_type": "code",
   "execution_count": 203,
   "metadata": {},
   "outputs": [
    {
     "data": {
      "text/html": [
       "<div>\n",
       "<style scoped>\n",
       "    .dataframe tbody tr th:only-of-type {\n",
       "        vertical-align: middle;\n",
       "    }\n",
       "\n",
       "    .dataframe tbody tr th {\n",
       "        vertical-align: top;\n",
       "    }\n",
       "\n",
       "    .dataframe thead th {\n",
       "        text-align: right;\n",
       "    }\n",
       "</style>\n",
       "<table border=\"1\" class=\"dataframe\">\n",
       "  <thead>\n",
       "    <tr style=\"text-align: right;\">\n",
       "      <th></th>\n",
       "      <th>sentiment</th>\n",
       "    </tr>\n",
       "  </thead>\n",
       "  <tbody>\n",
       "    <tr>\n",
       "      <th>count</th>\n",
       "      <td>37424.000000</td>\n",
       "    </tr>\n",
       "    <tr>\n",
       "      <th>mean</th>\n",
       "      <td>0.003268</td>\n",
       "    </tr>\n",
       "    <tr>\n",
       "      <th>std</th>\n",
       "      <td>0.174753</td>\n",
       "    </tr>\n",
       "    <tr>\n",
       "      <th>min</th>\n",
       "      <td>-0.900000</td>\n",
       "    </tr>\n",
       "    <tr>\n",
       "      <th>25%</th>\n",
       "      <td>-0.100000</td>\n",
       "    </tr>\n",
       "    <tr>\n",
       "      <th>50%</th>\n",
       "      <td>0.000000</td>\n",
       "    </tr>\n",
       "    <tr>\n",
       "      <th>75%</th>\n",
       "      <td>0.100000</td>\n",
       "    </tr>\n",
       "    <tr>\n",
       "      <th>max</th>\n",
       "      <td>0.900000</td>\n",
       "    </tr>\n",
       "  </tbody>\n",
       "</table>\n",
       "</div>"
      ],
      "text/plain": [
       "          sentiment\n",
       "count  37424.000000\n",
       "mean       0.003268\n",
       "std        0.174753\n",
       "min       -0.900000\n",
       "25%       -0.100000\n",
       "50%        0.000000\n",
       "75%        0.100000\n",
       "max        0.900000"
      ]
     },
     "execution_count": 203,
     "metadata": {},
     "output_type": "execute_result"
    }
   ],
   "source": [
    "sample[['sentiment']].describe()"
   ]
  },
  {
   "cell_type": "code",
   "execution_count": 204,
   "metadata": {},
   "outputs": [],
   "source": [
    "sentiment_u = sample[['sentiment']] + 0.9\n",
    "magnitude_u = sample[['magnitude']]"
   ]
  },
  {
   "cell_type": "code",
   "execution_count": 205,
   "metadata": {},
   "outputs": [],
   "source": [
    "new_features = hstack((content_tfidf, np.array(sentiment_u['sentiment'])[:,None]))\n",
    "new_features = hstack((new_features, np.array(magnitude_u['magnitude'])[:,None]))"
   ]
  },
  {
   "cell_type": "code",
   "execution_count": 206,
   "metadata": {},
   "outputs": [
    {
     "data": {
      "text/plain": [
       "<37424x405732 sparse matrix of type '<class 'numpy.float64'>'\n",
       "\twith 7184789 stored elements in COOrdinate format>"
      ]
     },
     "execution_count": 206,
     "metadata": {},
     "output_type": "execute_result"
    }
   ],
   "source": [
    "new_features"
   ]
  },
  {
   "cell_type": "code",
   "execution_count": 207,
   "metadata": {},
   "outputs": [],
   "source": [
    "fake_detect_model_sentiment_API_u = MultinomialNB().fit(new_features, sample['type'])"
   ]
  },
  {
   "cell_type": "code",
   "execution_count": 208,
   "metadata": {},
   "outputs": [],
   "source": [
    "sentiment_test_u = test_sample[['sentiment']] + 0.9\n",
    "magnitude_test_u = test_sample[['magnitude']]"
   ]
  },
  {
   "cell_type": "code",
   "execution_count": 209,
   "metadata": {},
   "outputs": [],
   "source": [
    "new_features_test = hstack((content_test_tfidf, np.array(sentiment_test_u['sentiment'])[:,None]))\n",
    "new_features_test = hstack((new_features_test, np.array(magnitude_test_u['magnitude'])[:,None]))"
   ]
  },
  {
   "cell_type": "code",
   "execution_count": 210,
   "metadata": {},
   "outputs": [
    {
     "name": "stdout",
     "output_type": "stream",
     "text": [
      "              precision    recall  f1-score   support\n",
      "\n",
      "           0       0.81      0.98      0.89      4135\n",
      "           1       0.98      0.82      0.89      5222\n",
      "\n",
      "    accuracy                           0.89      9357\n",
      "   macro avg       0.90      0.90      0.89      9357\n",
      "weighted avg       0.90      0.89      0.89      9357\n",
      "\n",
      "[[4035  926]\n",
      " [ 100 4296]]\n"
     ]
    },
    {
     "data": {
      "image/png": "[encoded data removed]",
      "text/plain": [
       "<Figure size 432x288 with 2 Axes>"
      ]
     },
     "metadata": {
      "needs_background": "light"
     },
     "output_type": "display_data"
    }
   ],
   "source": [
    "pred = fake_detect_model_sentiment_API_u.predict(new_features_test)\n",
    "\n",
    "print(classification_report(pred, test_sample['type']))\n",
    "\n",
    "from sklearn.metrics import plot_confusion_matrix\n",
    "disp = plot_confusion_matrix(fake_detect_model_sentiment_API, new_features_test, test_sample['type'], normalize = None,\n",
    "                                 cmap=plt.cm.Blues)\n",
    "disp.ax_.set_title(\"conf\")\n",
    "print(confusion_matrix(test_sample['type'], pred))"
   ]
  },
  {
   "cell_type": "code",
   "execution_count": null,
   "metadata": {},
   "outputs": [],
   "source": []
  }
 ],
 "metadata": {
  "kernelspec": {
   "display_name": "Python 3",
   "language": "python",
   "name": "python3"
  },
  "language_info": {
   "codemirror_mode": {
    "name": "ipython",
    "version": 3
   },
   "file_extension": ".py",
   "mimetype": "text/x-python",
   "name": "python",
   "nbconvert_exporter": "python",
   "pygments_lexer": "ipython3",
   "version": "3.8.2"
  }
 },
 "nbformat": 4,
 "nbformat_minor": 4
}
