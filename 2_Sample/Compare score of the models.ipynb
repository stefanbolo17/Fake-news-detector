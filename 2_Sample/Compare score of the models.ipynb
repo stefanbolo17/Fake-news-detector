{
 "cells": [
  {
   "cell_type": "code",
   "execution_count": 24,
   "metadata": {},
   "outputs": [],
   "source": [
    "import pandas as pd\n",
    "import pickle\n",
    "from sklearn.naive_bayes import MultinomialNB\n",
    "from sklearn.neighbors import KNeighborsClassifier\n",
    "from sklearn.neural_network import MLPClassifier\n",
    "import string\n",
    "import nltk # Imports the library\n",
    "import string\n",
    "from nltk.corpus import stopwords\n",
    "import sqlite3 as sql\n"
   ]
  },
  {
   "cell_type": "code",
   "execution_count": 2,
   "metadata": {},
   "outputs": [],
   "source": [
    "def text_process(mess):\n",
    "    \"\"\"\n",
    "    Takes in a string of text, then performs the following:\n",
    "    1. Remove all punctuation\n",
    "    2. Remove all stopwords\n",
    "    3. Returns a list of the cleaned text\n",
    "    \"\"\"\n",
    "    # Check characters to see if they are in punctuation\n",
    "    nopunc = [char for char in mess if char not in string.punctuation]\n",
    "\n",
    "    # Join the characters again to form the string.\n",
    "    nopunc = ''.join(nopunc)\n",
    "\n",
    "    # Now just remove any stopwords\n",
    "    return [word for word in nopunc.split() if word.lower() not in stopwords.words('english')]"
   ]
  },
  {
   "cell_type": "code",
   "execution_count": 33,
   "metadata": {},
   "outputs": [],
   "source": [
    "df = pd.read_csv('sample.csv')"
   ]
  },
  {
   "cell_type": "code",
   "execution_count": 4,
   "metadata": {},
   "outputs": [],
   "source": [
    "knn_model = pickle.load(open('finalized_model-knn.sav', 'rb'))\n",
    "rn_model = pickle.load(open('finalized_model-rn.sav','rb'))\n",
    "bayes_model = pickle.load(open('finalized_model.sav','rb'))"
   ]
  },
  {
   "cell_type": "code",
   "execution_count": 5,
   "metadata": {},
   "outputs": [
    {
     "name": "stdout",
     "output_type": "stream",
     "text": [
      "157519 39380 196899\n"
     ]
    }
   ],
   "source": [
    "from sklearn.model_selection import train_test_split\n",
    "\n",
    "news_train, news_test, type_train, type_test = train_test_split(df['content'], df['type'], test_size=0.2)\n",
    "\n",
    "print(len(news_train), len(news_test), len(type_train) + len(type_test))"
   ]
  },
  {
   "cell_type": "code",
   "execution_count": 6,
   "metadata": {},
   "outputs": [],
   "source": [
    "df.drop(['Unnamed: 0','index','sentiment','magnitude','title', 'authors'],axis = 1, inplace = True)"
   ]
  },
  {
   "cell_type": "code",
   "execution_count": 7,
   "metadata": {},
   "outputs": [
    {
     "data": {
      "text/html": [
       "<div>\n",
       "<style scoped>\n",
       "    .dataframe tbody tr th:only-of-type {\n",
       "        vertical-align: middle;\n",
       "    }\n",
       "\n",
       "    .dataframe tbody tr th {\n",
       "        vertical-align: top;\n",
       "    }\n",
       "\n",
       "    .dataframe thead th {\n",
       "        text-align: right;\n",
       "    }\n",
       "</style>\n",
       "<table border=\"1\" class=\"dataframe\">\n",
       "  <thead>\n",
       "    <tr style=\"text-align: right;\">\n",
       "      <th></th>\n",
       "      <th>domain</th>\n",
       "      <th>type</th>\n",
       "      <th>content</th>\n",
       "    </tr>\n",
       "  </thead>\n",
       "  <tbody>\n",
       "    <tr>\n",
       "      <th>0</th>\n",
       "      <td>wikileaks.com</td>\n",
       "      <td>unreliable</td>\n",
       "      <td>Tor\\n\\nTor is an encrypted anonymising network...</td>\n",
       "    </tr>\n",
       "    <tr>\n",
       "      <th>1</th>\n",
       "      <td>www.yahoo.com</td>\n",
       "      <td>reliable</td>\n",
       "      <td>NEW YORK (AP) — Ringling Bros. and Barnum &amp; Ba...</td>\n",
       "    </tr>\n",
       "    <tr>\n",
       "      <th>2</th>\n",
       "      <td>www.huffingtonpost.com</td>\n",
       "      <td>reliable</td>\n",
       "      <td>The Importance Of Being Kind 11/15/2016 09:44 ...</td>\n",
       "    </tr>\n",
       "    <tr>\n",
       "      <th>3</th>\n",
       "      <td>thedailysheeple.com</td>\n",
       "      <td>conspiracy</td>\n",
       "      <td>Delivered by The Daily Sheeple\\n\\nWe encourage...</td>\n",
       "    </tr>\n",
       "    <tr>\n",
       "      <th>4</th>\n",
       "      <td>beforeitsnews.com</td>\n",
       "      <td>fake</td>\n",
       "      <td>What Most Good Investors Do\\n\\n% of readers th...</td>\n",
       "    </tr>\n",
       "  </tbody>\n",
       "</table>\n",
       "</div>"
      ],
      "text/plain": [
       "                   domain        type  \\\n",
       "0           wikileaks.com  unreliable   \n",
       "1           www.yahoo.com    reliable   \n",
       "2  www.huffingtonpost.com    reliable   \n",
       "3     thedailysheeple.com  conspiracy   \n",
       "4       beforeitsnews.com        fake   \n",
       "\n",
       "                                             content  \n",
       "0  Tor\\n\\nTor is an encrypted anonymising network...  \n",
       "1  NEW YORK (AP) — Ringling Bros. and Barnum & Ba...  \n",
       "2  The Importance Of Being Kind 11/15/2016 09:44 ...  \n",
       "3  Delivered by The Daily Sheeple\\n\\nWe encourage...  \n",
       "4  What Most Good Investors Do\\n\\n% of readers th...  "
      ]
     },
     "execution_count": 7,
     "metadata": {},
     "output_type": "execute_result"
    }
   ],
   "source": [
    "df.head()"
   ]
  },
  {
   "cell_type": "code",
   "execution_count": 8,
   "metadata": {},
   "outputs": [],
   "source": [
    "df['type'] = df['type'].map({'fake': 0, 'reliable': 1, 'unreliable': 0, 'conspiracy':0})"
   ]
  },
  {
   "cell_type": "code",
   "execution_count": 9,
   "metadata": {},
   "outputs": [
    {
     "data": {
      "text/plain": [
       "type\n",
       "0    101352\n",
       "1     95547\n",
       "dtype: int64"
      ]
     },
     "execution_count": 9,
     "metadata": {},
     "output_type": "execute_result"
    }
   ],
   "source": [
    "df.groupby('type').size()"
   ]
  },
  {
   "cell_type": "code",
   "execution_count": 56,
   "metadata": {},
   "outputs": [],
   "source": [
    "df = df.sample(frac = 0.5)"
   ]
  },
  {
   "cell_type": "code",
   "execution_count": 10,
   "metadata": {},
   "outputs": [
    {
     "data": {
      "text/plain": [
       "<bound method DataFrame.count of                         domain  type  \\\n",
       "0                wikileaks.com     0   \n",
       "1                www.yahoo.com     1   \n",
       "2       www.huffingtonpost.com     1   \n",
       "3          thedailysheeple.com     0   \n",
       "4            beforeitsnews.com     0   \n",
       "...                        ...   ...   \n",
       "196894             nytimes.com     1   \n",
       "196895        pamelageller.com     0   \n",
       "196896             nytimes.com     1   \n",
       "196897             nytimes.com     1   \n",
       "196898             nytimes.com     1   \n",
       "\n",
       "                                                  content  \n",
       "0       Tor\\n\\nTor is an encrypted anonymising network...  \n",
       "1       NEW YORK (AP) — Ringling Bros. and Barnum & Ba...  \n",
       "2       The Importance Of Being Kind 11/15/2016 09:44 ...  \n",
       "3       Delivered by The Daily Sheeple\\n\\nWe encourage...  \n",
       "4       What Most Good Investors Do\\n\\n% of readers th...  \n",
       "...                                                   ...  \n",
       "196894  The travelers who went to La Guardia Airport y...  \n",
       "196895  'You say salafist and I say jihadist, you say ...  \n",
       "196896  SAMMIS-Frederick R. Of Darien, CT on December ...  \n",
       "196897  As he turned to go on, he spat speculatively. ...  \n",
       "196898  In an assessment that, astonishing, was called...  \n",
       "\n",
       "[196899 rows x 3 columns]>"
      ]
     },
     "execution_count": 10,
     "metadata": {},
     "output_type": "execute_result"
    }
   ],
   "source": [
    "df.count"
   ]
  },
  {
   "cell_type": "code",
   "execution_count": 11,
   "metadata": {},
   "outputs": [],
   "source": [
    "predict_bayes = bayes_model.predict(df['content'])"
   ]
  },
  {
   "cell_type": "code",
   "execution_count": 12,
   "metadata": {},
   "outputs": [],
   "source": [
    "predict_knn = knn_model.predict(df['content'])"
   ]
  },
  {
   "cell_type": "code",
   "execution_count": 13,
   "metadata": {},
   "outputs": [],
   "source": [
    "predict_rn = rn_model.predict(df['content'])"
   ]
  },
  {
   "cell_type": "code",
   "execution_count": 20,
   "metadata": {},
   "outputs": [],
   "source": [
    "from sklearn.metrics import classification_report\n",
    "from sklearn.metrics import plot_confusion_matrix\n",
    "from sklearn.metrics import confusion_matrix"
   ]
  },
  {
   "cell_type": "markdown",
   "metadata": {},
   "source": [
    "### Score Naiv Bayes"
   ]
  },
  {
   "cell_type": "code",
   "execution_count": 21,
   "metadata": {},
   "outputs": [
    {
     "name": "stdout",
     "output_type": "stream",
     "text": [
      "              precision    recall  f1-score   support\n",
      "\n",
      "           0       0.86      0.98      0.92     89302\n",
      "           1       0.98      0.87      0.92    107597\n",
      "\n",
      "    accuracy                           0.92    196899\n",
      "   macro avg       0.92      0.93      0.92    196899\n",
      "weighted avg       0.93      0.92      0.92    196899\n",
      "\n",
      "[[87633 13719]\n",
      " [ 1669 93878]]\n"
     ]
    }
   ],
   "source": [
    "print(classification_report(predict_bayes,df['type']))\n",
    "print(confusion_matrix(df['type'], predict_bayes))\n"
   ]
  },
  {
   "cell_type": "markdown",
   "metadata": {},
   "source": [
    "### Scor KNN"
   ]
  },
  {
   "cell_type": "code",
   "execution_count": 22,
   "metadata": {},
   "outputs": [
    {
     "name": "stdout",
     "output_type": "stream",
     "text": [
      "              precision    recall  f1-score   support\n",
      "\n",
      "           0       0.91      0.93      0.92     98156\n",
      "           1       0.93      0.90      0.92     98743\n",
      "\n",
      "    accuracy                           0.92    196899\n",
      "   macro avg       0.92      0.92      0.92    196899\n",
      "weighted avg       0.92      0.92      0.92    196899\n",
      "\n",
      "[[91753  9599]\n",
      " [ 6403 89144]]\n"
     ]
    }
   ],
   "source": [
    "print(classification_report(predict_knn,df['type']))\n",
    "print(confusion_matrix(df['type'], predict_knn))"
   ]
  },
  {
   "cell_type": "markdown",
   "metadata": {},
   "source": [
    "### Scor Retele Neuronale"
   ]
  },
  {
   "cell_type": "code",
   "execution_count": 23,
   "metadata": {},
   "outputs": [
    {
     "name": "stdout",
     "output_type": "stream",
     "text": [
      "              precision    recall  f1-score   support\n",
      "\n",
      "           0       0.99      0.99      0.99    101398\n",
      "           1       0.99      0.99      0.99     95501\n",
      "\n",
      "    accuracy                           0.99    196899\n",
      "   macro avg       0.99      0.99      0.99    196899\n",
      "weighted avg       0.99      0.99      0.99    196899\n",
      "\n",
      "[[100801    551]\n",
      " [   597  94950]]\n"
     ]
    }
   ],
   "source": [
    "print(classification_report(predict_rn,df['type']))\n",
    "print(confusion_matrix(df['type'], predict_rn))"
   ]
  },
  {
   "cell_type": "code",
   "execution_count": null,
   "metadata": {},
   "outputs": [],
   "source": []
  }
 ],
 "metadata": {
  "kernelspec": {
   "display_name": "Python 3",
   "language": "python",
   "name": "python3"
  },
  "language_info": {
   "codemirror_mode": {
    "name": "ipython",
    "version": 3
   },
   "file_extension": ".py",
   "mimetype": "text/x-python",
   "name": "python",
   "nbconvert_exporter": "python",
   "pygments_lexer": "ipython3",
   "version": "3.8.2"
  }
 },
 "nbformat": 4,
 "nbformat_minor": 4
}
